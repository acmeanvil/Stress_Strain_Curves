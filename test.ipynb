{
 "cells": [
  {
   "cell_type": "code",
   "execution_count": 28,
   "metadata": {},
   "outputs": [
    {
     "data": {
      "text/plain": [
       "array([  12100.58240601, 1226645.48182964])"
      ]
     },
     "execution_count": 28,
     "metadata": {},
     "output_type": "execute_result"
    }
   ],
   "source": [
    "import pandas as pd\n",
    "from scipy import signal as sig\n",
    "import numpy as np\n",
    "\n",
    "df=pd.read_csv('Cable_1_test_8.csv', index_col=0)\n",
    "\n",
    "stress_raw=df['Stress'].tolist()\n",
    "stress_average=df['Stress_avg'].tolist()\n",
    "strain_raw=df['Strain_Raw'].tolist()\n",
    "strain_norm=df['Strain_Norm'].tolist()\n",
    "\n",
    "stress_raw\n",
    "\n",
    "slice_low=10.0\n",
    "slice_high=40.0\n",
    "\n",
    "idx_count=len(df.index)\n",
    "\n",
    "idx_low=round(idx_count*(slice_low/100.0))\n",
    "idx_high=round(idx_count*(slice_high/100.0))\n",
    "\n",
    "df_sub=df.iloc[idx_low:idx_high]\n",
    "df_sub\n",
    "strain_range=list(df_sub['Strain_Norm'])\n",
    "strain_range\n",
    "df.insert(4,'Stress_Filtered', sig.savgol_filter(df['Stress'], 33, 3, mode='mirror'))\n",
    "df\n",
    "series=np.polynomial.polynomial.Polynomial.fit(df['Strain_Norm'], df['Stress_Filtered'],1)\n",
    "series.convert().coef"
   ]
  }
 ],
 "metadata": {
  "kernelspec": {
   "display_name": "serial_test",
   "language": "python",
   "name": "python3"
  },
  "language_info": {
   "codemirror_mode": {
    "name": "ipython",
    "version": 3
   },
   "file_extension": ".py",
   "mimetype": "text/x-python",
   "name": "python",
   "nbconvert_exporter": "python",
   "pygments_lexer": "ipython3",
   "version": "3.11.3"
  },
  "orig_nbformat": 4
 },
 "nbformat": 4,
 "nbformat_minor": 2
}
